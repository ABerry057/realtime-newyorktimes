{
 "cells": [
  {
   "cell_type": "code",
   "execution_count": 67,
   "metadata": {},
   "outputs": [],
   "source": [
    "import pandas as pd\n",
    "import numpy  as np\n",
    "import matplotlib\n",
    "import pandas\n",
    "from matplotlib import pylab as plt\n",
    "import re\n",
    "import nltk\n",
    "import sklearn\n",
    "import sklearn.feature_extraction.text as sk"
   ]
  },
  {
   "cell_type": "code",
   "execution_count": 2,
   "metadata": {},
   "outputs": [],
   "source": [
    "def wm2df(wm, feat_names):\n",
    "    # create an index for each row\n",
    "    doc_names = ['Doc{:d}'.format(idx) for idx, _ in enumerate(wm)]\n",
    "    df = pd.DataFrame(data=wm.toarray(), index=doc_names,\n",
    "                      columns=feat_names)\n",
    "    return(df)"
   ]
  },
  {
   "cell_type": "code",
   "execution_count": 168,
   "metadata": {},
   "outputs": [],
   "source": [
    "output =  [['4fd399788eb7c8105d8d5685', ['News', 'Obama, Barack',\n",
    "                                       'Volcker, Paul A', 'Banks and Banking', 'Economic Recovery Advisory Board',\n",
    "                                       'United States']], \n",
    "         ['504a8c451c22dfde670c42ab', ['Helmand Province (Afghanistan)'\n",
    "                                       , 'Taliban', 'United States Marine Corps', 'Afghanistan War (2001- )'\n",
    "                                       , 'United States Defense and Military Forces', 'Afghanistan']],\n",
    "         ['4a8c451c22dfde670c42a',['Afghanistan','Taliban','Banks and Banking']]]"
   ]
  },
  {
   "cell_type": "code",
   "execution_count": 169,
   "metadata": {},
   "outputs": [
    {
     "data": {
      "text/plain": [
       "[['4fd399788eb7c8105d8d5685',\n",
       "  ['News',\n",
       "   'Obama, Barack',\n",
       "   'Volcker, Paul A',\n",
       "   'Banks and Banking',\n",
       "   'Economic Recovery Advisory Board',\n",
       "   'United States']],\n",
       " ['504a8c451c22dfde670c42ab',\n",
       "  ['Helmand Province (Afghanistan)',\n",
       "   'Taliban',\n",
       "   'United States Marine Corps',\n",
       "   'Afghanistan War (2001- )',\n",
       "   'United States Defense and Military Forces',\n",
       "   'Afghanistan']],\n",
       " ['4a8c451c22dfde670c42a', ['Afghanistan', 'Taliban', 'Banks and Banking']]]"
      ]
     },
     "execution_count": 169,
     "metadata": {},
     "output_type": "execute_result"
    }
   ],
   "source": [
    "output"
   ]
  },
  {
   "cell_type": "code",
   "execution_count": 170,
   "metadata": {},
   "outputs": [],
   "source": [
    "import collections\n",
    "def get_word_to_count_dict(corpus):\n",
    "    \"\"\"\n",
    "    Return a list in the following format: [{keyword: count}]\n",
    "    \"\"\"\n",
    "    c = collections.Counter()\n",
    "    for doc in corpus:\n",
    "        keywords = doc[1]\n",
    "        for keyword in keywords:\n",
    "            c[keyword] += 1\n",
    "    return [[key, c[key]] for key in c.keys()]"
   ]
  },
  {
   "cell_type": "code",
   "execution_count": 171,
   "metadata": {},
   "outputs": [],
   "source": [
    "count_list=get_word_to_count_dict(output)"
   ]
  },
  {
   "cell_type": "code",
   "execution_count": 172,
   "metadata": {},
   "outputs": [
    {
     "data": {
      "text/plain": [
       "[['News', 1],\n",
       " ['Obama, Barack', 1],\n",
       " ['Volcker, Paul A', 1],\n",
       " ['Banks and Banking', 2],\n",
       " ['Economic Recovery Advisory Board', 1],\n",
       " ['United States', 1],\n",
       " ['Helmand Province (Afghanistan)', 1],\n",
       " ['Taliban', 2],\n",
       " ['United States Marine Corps', 1],\n",
       " ['Afghanistan War (2001- )', 1],\n",
       " ['United States Defense and Military Forces', 1],\n",
       " ['Afghanistan', 2]]"
      ]
     },
     "execution_count": 172,
     "metadata": {},
     "output_type": "execute_result"
    }
   ],
   "source": [
    "count_list"
   ]
  },
  {
   "cell_type": "code",
   "execution_count": 173,
   "metadata": {},
   "outputs": [],
   "source": [
    "sorted_list=sorted(dictq,key=lambda x:-x[1])"
   ]
  },
  {
   "cell_type": "code",
   "execution_count": 174,
   "metadata": {},
   "outputs": [],
   "source": [
    "sorted_list\n",
    "col_names=[x[0] for x in sorted_list]"
   ]
  },
  {
   "cell_type": "code",
   "execution_count": 175,
   "metadata": {},
   "outputs": [
    {
     "data": {
      "text/html": [
       "<div>\n",
       "<style scoped>\n",
       "    .dataframe tbody tr th:only-of-type {\n",
       "        vertical-align: middle;\n",
       "    }\n",
       "\n",
       "    .dataframe tbody tr th {\n",
       "        vertical-align: top;\n",
       "    }\n",
       "\n",
       "    .dataframe thead th {\n",
       "        text-align: right;\n",
       "    }\n",
       "</style>\n",
       "<table border=\"1\" class=\"dataframe\">\n",
       "  <thead>\n",
       "    <tr style=\"text-align: right;\">\n",
       "      <th></th>\n",
       "      <th>News</th>\n",
       "      <th>Obama, Barack</th>\n",
       "      <th>Volcker, Paul A</th>\n",
       "      <th>Banks and Banking</th>\n",
       "      <th>Economic Recovery Advisory Board</th>\n",
       "      <th>United States</th>\n",
       "      <th>Helmand Province (Afghanistan)</th>\n",
       "      <th>Taliban</th>\n",
       "      <th>United States Marine Corps</th>\n",
       "      <th>Afghanistan War (2001- )</th>\n",
       "      <th>United States Defense and Military Forces</th>\n",
       "      <th>Afghanistan</th>\n",
       "    </tr>\n",
       "  </thead>\n",
       "  <tbody>\n",
       "    <tr>\n",
       "      <th>1</th>\n",
       "      <td>2</td>\n",
       "      <td>2</td>\n",
       "      <td>2</td>\n",
       "      <td>1</td>\n",
       "      <td>1</td>\n",
       "      <td>1</td>\n",
       "      <td>1</td>\n",
       "      <td>1</td>\n",
       "      <td>1</td>\n",
       "      <td>1</td>\n",
       "      <td>1</td>\n",
       "      <td>1</td>\n",
       "    </tr>\n",
       "  </tbody>\n",
       "</table>\n",
       "</div>"
      ],
      "text/plain": [
       "   News  Obama, Barack  Volcker, Paul A  Banks and Banking  \\\n",
       "1     2              2                2                  1   \n",
       "\n",
       "   Economic Recovery Advisory Board  United States  \\\n",
       "1                                 1              1   \n",
       "\n",
       "   Helmand Province (Afghanistan)  Taliban  United States Marine Corps  \\\n",
       "1                               1        1                           1   \n",
       "\n",
       "   Afghanistan War (2001- )  United States Defense and Military Forces  \\\n",
       "1                         1                                          1   \n",
       "\n",
       "   Afghanistan  \n",
       "1            1  "
      ]
     },
     "execution_count": 175,
     "metadata": {},
     "output_type": "execute_result"
    }
   ],
   "source": [
    "data = (pd.DataFrame(sorted_list))\n",
    "data.sort_values(by=[1])\n",
    "data.drop([0],inplace=True,axis=1)\n",
    "datat=data.transpose()\n",
    "datat.columns=col\n",
    "datat"
   ]
  },
  {
   "cell_type": "code",
   "execution_count": 83,
   "metadata": {},
   "outputs": [],
   "source": [
    "# # instantiate the vectorizer object\n",
    "# #cvec = sk.CountVectorizer(lowercase=False, token_pattern='(?u)\\\\b\\\\w\\\\w+\\\\b')\n",
    "# cvec = sk.CountVectorizer(lowercase=False, token_pattern=\"(?u)\\\\b[\\\\w-]+\\\\b\")\n",
    "# # convert the documents into a document-term matrix\n",
    "# wm = cvec.fit_transform(flattened_list)\n",
    "\n",
    "# # retrieve the terms found in the corpora\n",
    "# tokens = cvec.get_feature_names()\n",
    "\n",
    "# # create a dataframe from the matrix\n",
    "# table=wm2df(wm, tokens)\n",
    "# table"
   ]
  },
  {
   "cell_type": "code",
   "execution_count": 84,
   "metadata": {},
   "outputs": [],
   "source": [
    "# word_freq=table.sum(axis = 0, skipna = True)\n",
    "# type(word_freq)\n",
    "\n",
    "# f_word = pd.DataFrame([word_freq])\n",
    "# f_word=f_word.transpose()\n",
    "# f_word = f_word.sort_values(0,ascending=False)"
   ]
  },
  {
   "cell_type": "code",
   "execution_count": 176,
   "metadata": {},
   "outputs": [
    {
     "data": {
      "image/png": "[encoded data removed]",
      "text/plain": [
       "<Figure size 432x288 with 1 Axes>"
      ]
     },
     "metadata": {
      "needs_background": "light"
     },
     "output_type": "display_data"
    }
   ],
   "source": [
    "#word_freq.value_counts()[:20].plot(kind='bar')\n",
    "datat.plot.bar()\n",
    "plt.xlabel('Keywords')\n",
    "plt.ylabel('Count')\n",
    "plt.title('Most Frequently occuring Keywords')\n",
    "plt.tight_layout()"
   ]
  },
  {
   "cell_type": "code",
   "execution_count": null,
   "metadata": {},
   "outputs": [],
   "source": []
  },
  {
   "cell_type": "code",
   "execution_count": null,
   "metadata": {},
   "outputs": [],
   "source": []
  }
 ],
 "metadata": {
  "kernelspec": {
   "display_name": "Python 3",
   "language": "python",
   "name": "python3"
  },
  "language_info": {
   "codemirror_mode": {
    "name": "ipython",
    "version": 3
   },
   "file_extension": ".py",
   "mimetype": "text/x-python",
   "name": "python",
   "nbconvert_exporter": "python",
   "pygments_lexer": "ipython3",
   "version": "3.7.3"
  }
 },
 "nbformat": 4,
 "nbformat_minor": 4
}
